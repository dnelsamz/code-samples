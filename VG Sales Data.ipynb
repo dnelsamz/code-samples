{
 "cells": [
  {
   "cell_type": "code",
   "execution_count": 1,
   "id": "8ae6824f",
   "metadata": {},
   "outputs": [],
   "source": [
    "import matplotlib.pyplot as plt\n",
    "import pandas as pd\n",
    "import numpy as np\n",
    "import seaborn as sns\n",
    "from sklearn.model_selection import train_test_split\n",
    "from sklearn.linear_model import LinearRegression, ElasticNet, Lasso, Ridge\n",
    "from sklearn.tree import DecisionTreeRegressor\n",
    "from sklearn.ensemble import RandomForestRegressor, AdaBoostRegressor\n",
    "from sklearn.preprocessing import StandardScaler\n",
    "from sklearn.decomposition import PCA\n",
    "from sklearn.pipeline import Pipeline"
   ]
  },
  {
   "cell_type": "code",
   "execution_count": 2,
   "id": "2a2d3ce7",
   "metadata": {},
   "outputs": [
    {
     "name": "stdout",
     "output_type": "stream",
     "text": [
      "Number of games:  16598\n",
      "Number of publishers:  579\n",
      "Number of platforms:  31\n",
      "Number of genres:  12\n"
     ]
    }
   ],
   "source": [
    "df = pd.read_csv(\"vgsales.csv\")\n",
    "\n",
    "# get an idea of the total number of occurences for important features\n",
    "\n",
    "publishers = df['Publisher'].unique()\n",
    "platforms = df['Platform'].unique()\n",
    "genres = df['Genre'].unique()\n",
    "\n",
    "print(\"Number of games: \", len(df))\n",
    "print(\"Number of publishers: \", len(publishers))\n",
    "print(\"Number of platforms: \", len(platforms))\n",
    "print(\"Number of genres: \", len(genres))"
   ]
  },
  {
   "cell_type": "code",
   "execution_count": 3,
   "id": "86b7a31d",
   "metadata": {},
   "outputs": [
    {
     "name": "stdout",
     "output_type": "stream",
     "text": [
      "Rank              0\n",
      "Name              0\n",
      "Platform          0\n",
      "Year            271\n",
      "Genre             0\n",
      "Publisher        58\n",
      "NA_Sales          0\n",
      "EU_Sales          0\n",
      "JP_Sales          0\n",
      "Other_Sales       0\n",
      "Global_Sales      0\n",
      "dtype: int64\n"
     ]
    }
   ],
   "source": [
    "\n",
    "\n",
    "# check to see if there are any null values\n",
    "print(df.isnull().sum())\n",
    "\n",
    "# drop them if there are any\n",
    "df = df.dropna()\n",
    "\n"
   ]
  },
  {
   "cell_type": "code",
   "execution_count": 4,
   "id": "c740d18f",
   "metadata": {},
   "outputs": [
    {
     "data": {
      "image/png": "[encoded data removed]",
      "text/plain": [
       "<Figure size 864x576 with 1 Axes>"
      ]
     },
     "metadata": {
      "needs_background": "light"
     },
     "output_type": "display_data"
    }
   ],
   "source": [
    "# if we wanted the counts instead, we could just use Count. Count returns the number of instances,\n",
    "# not the sums of the values like above\n",
    "x = df.groupby(['Year']).count()\n",
    "x = x['Global_Sales']\n",
    "y = x.index.astype(int)\n",
    "\n",
    "plt.figure(figsize=(12,8))\n",
    "colors = sns.color_palette(\"muted\")\n",
    "ax = sns.barplot(y = y, x = x, orient='h', palette=colors)\n",
    "ax.set_xlabel(xlabel='Number of releases', fontsize=16)\n",
    "ax.set_ylabel(ylabel='Year', fontsize=16)\n",
    "ax.set_title(label='Game Releases Per Year', fontsize=20)\n",
    "\n",
    "plt.show()"
   ]
  },
  {
   "cell_type": "code",
   "execution_count": null,
   "id": "97b1a70b",
   "metadata": {},
   "outputs": [],
   "source": [
    "vg_data = pd.read_csv('vgsales.csv')\n",
    "\n",
    "print(vg_data.info())\n",
    "print(vg_data.describe())\n",
    "\n",
    "# let's choose a cutoff and drop any publishers that have published less than X games\n",
    "\n",
    "for i in vg_data['Publisher'].unique():\n",
    "    if vg_data['Publisher'][vg_data['Publisher'] == i].count() < 60:\n",
    "        vg_data['Publisher'][vg_data['Publisher'] == i] = 'Other'\n",
    "\n",
    "for i in vg_data['Platform'].unique():\n",
    "    if vg_data['Platform'][vg_data['Platform'] == i].count() < 100:\n",
    "        vg_data['Platform'][vg_data['Platform'] == i] = 'Other'\n",
    "\n",
    "#try plotting the new publisher and platform data\n",
    "sns.countplot(x='Publisher', data=vg_data)\n",
    "plt.title(\"# Games Published By Publisher\")\n",
    "plt.xticks(rotation=-90)\n",
    "plt.show()\n",
    "\n",
    "plat_data = vg_data['Platform'].value_counts(sort=False)\n",
    "sns.countplot(y='Platform', data=vg_data)\n",
    "plt.title(\"# Games Published Per Console\")\n",
    "plt.xticks(rotation=-90)\n",
    "plt.show()"
   ]
  },
  {
   "cell_type": "code",
   "execution_count": null,
   "id": "9258ea43",
   "metadata": {},
   "outputs": [],
   "source": [
    "sns.barplot(x='Genre', y='Global_Sales', data=vg_data)\n",
    "plt.title(\"Total Sales Per Genre\")\n",
    "plt.xticks(rotation=-45)\n",
    "plt.show()"
   ]
  },
  {
   "cell_type": "code",
   "execution_count": null,
   "id": "e6f32274",
   "metadata": {},
   "outputs": [],
   "source": [
    "# try visualizing the number of games in a specific genre\n",
    "for i in vg_data['Platform'].unique():\n",
    "    vg_data['Genre'][vg_data['Platform'] == i].value_counts().plot(kind='line', label=i, figsize=(20, 10), grid=True)\n",
    "\n",
    "# set the legend and ticks\n",
    "\n",
    "plt.legend(bbox_to_anchor=(0., 1.02, 1., .102), loc=3, ncol=20, borderaxespad=0.)\n",
    "plt.xticks(np.arange(12), tuple(vg_data['Genre'].unique()))\n",
    "plt.tight_layout()\n",
    "plt.show()"
   ]
  },
  {
   "cell_type": "code",
   "execution_count": null,
   "id": "cc5454fa",
   "metadata": {},
   "outputs": [],
   "source": [
    "# going to attempt to carry out linear regression and predict the global sales of games\n",
    "# based off of the sales in North America\n",
    "\n",
    "X = vg_data.iloc[:, 6].values\n",
    "y = vg_data.iloc[:, 10].values\n",
    "\n",
    "# train test split and split the dataframe\n",
    "\n",
    "X_train, X_test, y_train, y_test = train_test_split(X, y, test_size=0.2, random_state=8)"
   ]
  },
  {
   "cell_type": "code",
   "execution_count": null,
   "id": "6a629c45",
   "metadata": {},
   "outputs": [],
   "source": [
    "# reshape the data into long 2D arrays with 1 column and as many rows as necessary\n",
    "X_train = X_train.reshape(-1, 1)\n",
    "X_test = X_test.reshape(-1, 1)\n",
    "y_train = y_train.reshape(-1, 1)\n",
    "y_test = y_test.reshape(-1, 1)\n",
    "\n",
    "lin_reg = LinearRegression()\n",
    "lin_reg.fit(X_train, y_train)"
   ]
  },
  {
   "cell_type": "code",
   "execution_count": null,
   "id": "58805312",
   "metadata": {},
   "outputs": [],
   "source": [
    "def plot_regression(classifier):\n",
    "\n",
    "    plt.scatter(X_train, y_train,color='blue')\n",
    "    plt.plot(X_train, classifier.predict(X_train), color='red')\n",
    "    plt.title('(Training set)')\n",
    "    plt.xlabel('North America Sales')\n",
    "    plt.ylabel('Global Sales')\n",
    "    plt.show()\n",
    "\n",
    "    plt.scatter(X_test, y_test,color='blue')\n",
    "    plt.plot(X_train, classifier.predict(X_train), color='red')\n",
    "    plt.title('(Testing set)')\n",
    "    plt.xlabel('North America Sales')\n",
    "    plt.ylabel('Global Sales')\n",
    "    plt.show()\n",
    "    \n",
    "plot_regression(lin_reg)\n",
    "print(\"Training set score: {:.2f}\".format(lin_reg.score(X_train, y_train)))\n",
    "print(\"Test set score: {:.2f}\".format(lin_reg.score(X_test, y_test)))\n",
    "\n"
   ]
  },
  {
   "cell_type": "code",
   "execution_count": null,
   "id": "a4db5be9",
   "metadata": {},
   "outputs": [],
   "source": [
    "DTree_regressor = DecisionTreeRegressor(random_state=5)\n",
    "DTree_regressor.fit(X_train, y_train)\n",
    "plot_regression(DTree_regressor)\n",
    "\n",
    "print(\"Training set score: {:.2f}\".format(DTree_regressor.score(X_train, y_train)))\n",
    "print(\"Test set score: {:.2f}\".format(DTree_regressor.score(X_test, y_test)))"
   ]
  },
  {
   "cell_type": "code",
   "execution_count": 5,
   "id": "9576e9f3",
   "metadata": {},
   "outputs": [
    {
     "ename": "NameError",
     "evalue": "name 'X_train' is not defined",
     "output_type": "error",
     "traceback": [
      "\u001b[1;31m---------------------------------------------------------------------------\u001b[0m",
      "\u001b[1;31mNameError\u001b[0m                                 Traceback (most recent call last)",
      "\u001b[1;32m~\\AppData\\Local\\Temp/ipykernel_33352/3781778288.py\u001b[0m in \u001b[0;36m<module>\u001b[1;34m\u001b[0m\n\u001b[0;32m      1\u001b[0m \u001b[0mRF_regressor\u001b[0m \u001b[1;33m=\u001b[0m \u001b[0mRandomForestRegressor\u001b[0m\u001b[1;33m(\u001b[0m\u001b[0mn_estimators\u001b[0m\u001b[1;33m=\u001b[0m\u001b[1;36m300\u001b[0m\u001b[1;33m,\u001b[0m \u001b[0mrandom_state\u001b[0m\u001b[1;33m=\u001b[0m\u001b[1;36m5\u001b[0m\u001b[1;33m)\u001b[0m\u001b[1;33m\u001b[0m\u001b[1;33m\u001b[0m\u001b[0m\n\u001b[1;32m----> 2\u001b[1;33m \u001b[0mRF_regressor\u001b[0m\u001b[1;33m.\u001b[0m\u001b[0mfit\u001b[0m\u001b[1;33m(\u001b[0m\u001b[0mX_train\u001b[0m\u001b[1;33m,\u001b[0m \u001b[0my_train\u001b[0m\u001b[1;33m)\u001b[0m\u001b[1;33m\u001b[0m\u001b[1;33m\u001b[0m\u001b[0m\n\u001b[0m\u001b[0;32m      3\u001b[0m \u001b[0mplot_regression\u001b[0m\u001b[1;33m(\u001b[0m\u001b[0mRF_regressor\u001b[0m\u001b[1;33m)\u001b[0m\u001b[1;33m\u001b[0m\u001b[1;33m\u001b[0m\u001b[0m\n\u001b[0;32m      4\u001b[0m \u001b[1;33m\u001b[0m\u001b[0m\n\u001b[0;32m      5\u001b[0m \u001b[0mprint\u001b[0m\u001b[1;33m(\u001b[0m\u001b[1;34m\"Training set score: {:.2f}\"\u001b[0m\u001b[1;33m.\u001b[0m\u001b[0mformat\u001b[0m\u001b[1;33m(\u001b[0m\u001b[0mRF_regressor\u001b[0m\u001b[1;33m.\u001b[0m\u001b[0mscore\u001b[0m\u001b[1;33m(\u001b[0m\u001b[0mX_train\u001b[0m\u001b[1;33m,\u001b[0m \u001b[0my_train\u001b[0m\u001b[1;33m)\u001b[0m\u001b[1;33m)\u001b[0m\u001b[1;33m)\u001b[0m\u001b[1;33m\u001b[0m\u001b[1;33m\u001b[0m\u001b[0m\n",
      "\u001b[1;31mNameError\u001b[0m: name 'X_train' is not defined"
     ]
    }
   ],
   "source": [
    "RF_regressor = RandomForestRegressor(n_estimators=300, random_state=5)\n",
    "RF_regressor.fit(X_train, y_train)\n",
    "plot_regression(RF_regressor)\n",
    "\n",
    "print(\"Training set score: {:.2f}\".format(RF_regressor.score(X_train, y_train)))\n",
    "print(\"Test set score: {:.2f}\".format(RF_regressor.score(X_test, y_test)))"
   ]
  },
  {
   "cell_type": "code",
   "execution_count": null,
   "id": "167fefb5",
   "metadata": {},
   "outputs": [],
   "source": [
    "components = [\n",
    "    ('scaling', StandardScaler()),\n",
    "    ('PCA', PCA()),\n",
    "    ('regression', LinearRegression())\n",
    "]\n",
    "\n",
    "pca = Pipeline(components)\n",
    "pca.fit(X_train, y_train)\n",
    "plot_regression(pca)\n",
    "print(\"Training set score: {:.2f}\".format(pca.score(X_train, y_train)))\n",
    "print(\"Test set score: {:.2f}\".format(pca.score(X_test, y_test)))"
   ]
  },
  {
   "cell_type": "code",
   "execution_count": null,
   "id": "3318ff71",
   "metadata": {},
   "outputs": [],
   "source": []
  },
  {
   "cell_type": "code",
   "execution_count": null,
   "id": "52f8b2e5",
   "metadata": {},
   "outputs": [],
   "source": []
  }
 ],
 "metadata": {
  "kernelspec": {
   "display_name": "Python 3 (ipykernel)",
   "language": "python",
   "name": "python3"
  },
  "language_info": {
   "codemirror_mode": {
    "name": "ipython",
    "version": 3
   },
   "file_extension": ".py",
   "mimetype": "text/x-python",
   "name": "python",
   "nbconvert_exporter": "python",
   "pygments_lexer": "ipython3",
   "version": "3.8.5"
  }
 },
 "nbformat": 4,
 "nbformat_minor": 5
}
